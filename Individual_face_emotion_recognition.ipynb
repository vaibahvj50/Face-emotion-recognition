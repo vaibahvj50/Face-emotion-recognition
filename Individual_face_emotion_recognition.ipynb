{
  "nbformat": 4,
  "nbformat_minor": 0,
  "metadata": {
    "colab": {
      "name": "Individual.ipynb",
      "provenance": [],
      "collapsed_sections": [],
      "include_colab_link": true
    },
    "kernelspec": {
      "name": "python3",
      "display_name": "Python 3"
    },
    "language_info": {
      "name": "python"
    },
    "accelerator": "GPU"
  },
  "cells": [
    {
      "cell_type": "markdown",
      "metadata": {
        "id": "view-in-github",
        "colab_type": "text"
      },
      "source": [
        "<a href=\"https://colab.research.google.com/github/vaibahvj50/Face-emotion-recognition/blob/main/Individual.ipynb\" target=\"_parent\"><img src=\"https://colab.research.google.com/assets/colab-badge.svg\" alt=\"Open In Colab\"/></a>"
      ]
    },
    {
      "cell_type": "code",
      "metadata": {
        "colab": {
          "base_uri": "https://localhost:8080/"
        },
        "id": "aZ3s8_pvswd7",
        "outputId": "20d8a994-cdbb-46cb-f80b-22a3fa81a830"
      },
      "source": [
        "import pandas as pd\n",
        "from PIL import Image\n",
        "import numpy as np\n",
        "import matplotlib.pyplot as plt\n",
        "import keras\n",
        "from sklearn.model_selection import train_test_split\n",
        "from keras.layers import Conv2D, MaxPool2D, AveragePooling2D, Input, BatchNormalization, MaxPooling2D, Activation, Flatten, Dense, Dropout\n",
        "from keras.models import Model\n",
        "from tensorflow.keras.utils import to_categorical\n",
        "from sklearn.metrics import classification_report\n",
        "from imblearn.over_sampling import RandomOverSampler\n",
        "from keras.preprocessing import image\n",
        "import scipy\n",
        "import os\n",
        "import cv2"
      ],
      "execution_count": null,
      "outputs": [
        {
          "output_type": "stream",
          "text": [
            "/usr/local/lib/python3.7/dist-packages/sklearn/externals/six.py:31: FutureWarning: The module is deprecated in version 0.21 and will be removed in version 0.23 since we've dropped support for Python 2.7. Please rely on the official version of six (https://pypi.org/project/six/).\n",
            "  \"(https://pypi.org/project/six/).\", FutureWarning)\n",
            "/usr/local/lib/python3.7/dist-packages/sklearn/utils/deprecation.py:144: FutureWarning: The sklearn.neighbors.base module is  deprecated in version 0.22 and will be removed in version 0.24. The corresponding classes / functions should instead be imported from sklearn.neighbors. Anything that cannot be imported from sklearn.neighbors is now part of the private API.\n",
            "  warnings.warn(message, FutureWarning)\n"
          ],
          "name": "stderr"
        }
      ]
    },
    {
      "cell_type": "code",
      "metadata": {
        "colab": {
          "base_uri": "https://localhost:8080/"
        },
        "id": "ZsSEyWQts3Iw",
        "outputId": "dd0cdda2-459f-4795-8ffb-6d6bf7411772"
      },
      "source": [
        "from google.colab import drive\n",
        "drive.mount('/content/drive')"
      ],
      "execution_count": null,
      "outputs": [
        {
          "output_type": "stream",
          "text": [
            "Mounted at /content/drive\n"
          ],
          "name": "stdout"
        }
      ]
    },
    {
      "cell_type": "code",
      "metadata": {
        "id": "Uf61aguWs3Lq"
      },
      "source": [
        "data=pd.read_csv('/content/drive/MyDrive/fer2013.csv')"
      ],
      "execution_count": null,
      "outputs": []
    },
    {
      "cell_type": "code",
      "metadata": {
        "colab": {
          "base_uri": "https://localhost:8080/",
          "height": 206
        },
        "id": "fW66dEXEyxZq",
        "outputId": "789cc83b-445e-43a9-9fbb-d8a848bea135"
      },
      "source": [
        "data.head()"
      ],
      "execution_count": null,
      "outputs": [
        {
          "output_type": "execute_result",
          "data": {
            "text/html": [
              "<div>\n",
              "<style scoped>\n",
              "    .dataframe tbody tr th:only-of-type {\n",
              "        vertical-align: middle;\n",
              "    }\n",
              "\n",
              "    .dataframe tbody tr th {\n",
              "        vertical-align: top;\n",
              "    }\n",
              "\n",
              "    .dataframe thead th {\n",
              "        text-align: right;\n",
              "    }\n",
              "</style>\n",
              "<table border=\"1\" class=\"dataframe\">\n",
              "  <thead>\n",
              "    <tr style=\"text-align: right;\">\n",
              "      <th></th>\n",
              "      <th>emotion</th>\n",
              "      <th>pixels</th>\n",
              "      <th>Usage</th>\n",
              "    </tr>\n",
              "  </thead>\n",
              "  <tbody>\n",
              "    <tr>\n",
              "      <th>0</th>\n",
              "      <td>0</td>\n",
              "      <td>70 80 82 72 58 58 60 63 54 58 60 48 89 115 121...</td>\n",
              "      <td>Training</td>\n",
              "    </tr>\n",
              "    <tr>\n",
              "      <th>1</th>\n",
              "      <td>0</td>\n",
              "      <td>151 150 147 155 148 133 111 140 170 174 182 15...</td>\n",
              "      <td>Training</td>\n",
              "    </tr>\n",
              "    <tr>\n",
              "      <th>2</th>\n",
              "      <td>2</td>\n",
              "      <td>231 212 156 164 174 138 161 173 182 200 106 38...</td>\n",
              "      <td>Training</td>\n",
              "    </tr>\n",
              "    <tr>\n",
              "      <th>3</th>\n",
              "      <td>4</td>\n",
              "      <td>24 32 36 30 32 23 19 20 30 41 21 22 32 34 21 1...</td>\n",
              "      <td>Training</td>\n",
              "    </tr>\n",
              "    <tr>\n",
              "      <th>4</th>\n",
              "      <td>6</td>\n",
              "      <td>4 0 0 0 0 0 0 0 0 0 0 0 3 15 23 28 48 50 58 84...</td>\n",
              "      <td>Training</td>\n",
              "    </tr>\n",
              "  </tbody>\n",
              "</table>\n",
              "</div>"
            ],
            "text/plain": [
              "   emotion                                             pixels     Usage\n",
              "0        0  70 80 82 72 58 58 60 63 54 58 60 48 89 115 121...  Training\n",
              "1        0  151 150 147 155 148 133 111 140 170 174 182 15...  Training\n",
              "2        2  231 212 156 164 174 138 161 173 182 200 106 38...  Training\n",
              "3        4  24 32 36 30 32 23 19 20 30 41 21 22 32 34 21 1...  Training\n",
              "4        6  4 0 0 0 0 0 0 0 0 0 0 0 3 15 23 28 48 50 58 84...  Training"
            ]
          },
          "metadata": {
            "tags": []
          },
          "execution_count": 4
        }
      ]
    },
    {
      "cell_type": "code",
      "metadata": {
        "colab": {
          "base_uri": "https://localhost:8080/",
          "height": 424
        },
        "id": "Zxq7WFKBPrea",
        "outputId": "e0abf901-aa3a-44eb-b78a-92d9bdae238b"
      },
      "source": [
        "data"
      ],
      "execution_count": null,
      "outputs": [
        {
          "output_type": "execute_result",
          "data": {
            "text/html": [
              "<div>\n",
              "<style scoped>\n",
              "    .dataframe tbody tr th:only-of-type {\n",
              "        vertical-align: middle;\n",
              "    }\n",
              "\n",
              "    .dataframe tbody tr th {\n",
              "        vertical-align: top;\n",
              "    }\n",
              "\n",
              "    .dataframe thead th {\n",
              "        text-align: right;\n",
              "    }\n",
              "</style>\n",
              "<table border=\"1\" class=\"dataframe\">\n",
              "  <thead>\n",
              "    <tr style=\"text-align: right;\">\n",
              "      <th></th>\n",
              "      <th>emotion</th>\n",
              "      <th>pixels</th>\n",
              "      <th>Usage</th>\n",
              "    </tr>\n",
              "  </thead>\n",
              "  <tbody>\n",
              "    <tr>\n",
              "      <th>0</th>\n",
              "      <td>0</td>\n",
              "      <td>70 80 82 72 58 58 60 63 54 58 60 48 89 115 121...</td>\n",
              "      <td>Training</td>\n",
              "    </tr>\n",
              "    <tr>\n",
              "      <th>1</th>\n",
              "      <td>0</td>\n",
              "      <td>151 150 147 155 148 133 111 140 170 174 182 15...</td>\n",
              "      <td>Training</td>\n",
              "    </tr>\n",
              "    <tr>\n",
              "      <th>2</th>\n",
              "      <td>2</td>\n",
              "      <td>231 212 156 164 174 138 161 173 182 200 106 38...</td>\n",
              "      <td>Training</td>\n",
              "    </tr>\n",
              "    <tr>\n",
              "      <th>3</th>\n",
              "      <td>4</td>\n",
              "      <td>24 32 36 30 32 23 19 20 30 41 21 22 32 34 21 1...</td>\n",
              "      <td>Training</td>\n",
              "    </tr>\n",
              "    <tr>\n",
              "      <th>4</th>\n",
              "      <td>6</td>\n",
              "      <td>4 0 0 0 0 0 0 0 0 0 0 0 3 15 23 28 48 50 58 84...</td>\n",
              "      <td>Training</td>\n",
              "    </tr>\n",
              "    <tr>\n",
              "      <th>...</th>\n",
              "      <td>...</td>\n",
              "      <td>...</td>\n",
              "      <td>...</td>\n",
              "    </tr>\n",
              "    <tr>\n",
              "      <th>35882</th>\n",
              "      <td>6</td>\n",
              "      <td>50 36 17 22 23 29 33 39 34 37 37 37 39 43 48 5...</td>\n",
              "      <td>PrivateTest</td>\n",
              "    </tr>\n",
              "    <tr>\n",
              "      <th>35883</th>\n",
              "      <td>3</td>\n",
              "      <td>178 174 172 173 181 188 191 194 196 199 200 20...</td>\n",
              "      <td>PrivateTest</td>\n",
              "    </tr>\n",
              "    <tr>\n",
              "      <th>35884</th>\n",
              "      <td>0</td>\n",
              "      <td>17 17 16 23 28 22 19 17 25 26 20 24 31 19 27 9...</td>\n",
              "      <td>PrivateTest</td>\n",
              "    </tr>\n",
              "    <tr>\n",
              "      <th>35885</th>\n",
              "      <td>3</td>\n",
              "      <td>30 28 28 29 31 30 42 68 79 81 77 67 67 71 63 6...</td>\n",
              "      <td>PrivateTest</td>\n",
              "    </tr>\n",
              "    <tr>\n",
              "      <th>35886</th>\n",
              "      <td>2</td>\n",
              "      <td>19 13 14 12 13 16 21 33 50 57 71 84 97 108 122...</td>\n",
              "      <td>PrivateTest</td>\n",
              "    </tr>\n",
              "  </tbody>\n",
              "</table>\n",
              "<p>35887 rows × 3 columns</p>\n",
              "</div>"
            ],
            "text/plain": [
              "       emotion                                             pixels        Usage\n",
              "0            0  70 80 82 72 58 58 60 63 54 58 60 48 89 115 121...     Training\n",
              "1            0  151 150 147 155 148 133 111 140 170 174 182 15...     Training\n",
              "2            2  231 212 156 164 174 138 161 173 182 200 106 38...     Training\n",
              "3            4  24 32 36 30 32 23 19 20 30 41 21 22 32 34 21 1...     Training\n",
              "4            6  4 0 0 0 0 0 0 0 0 0 0 0 3 15 23 28 48 50 58 84...     Training\n",
              "...        ...                                                ...          ...\n",
              "35882        6  50 36 17 22 23 29 33 39 34 37 37 37 39 43 48 5...  PrivateTest\n",
              "35883        3  178 174 172 173 181 188 191 194 196 199 200 20...  PrivateTest\n",
              "35884        0  17 17 16 23 28 22 19 17 25 26 20 24 31 19 27 9...  PrivateTest\n",
              "35885        3  30 28 28 29 31 30 42 68 79 81 77 67 67 71 63 6...  PrivateTest\n",
              "35886        2  19 13 14 12 13 16 21 33 50 57 71 84 97 108 122...  PrivateTest\n",
              "\n",
              "[35887 rows x 3 columns]"
            ]
          },
          "metadata": {
            "tags": []
          },
          "execution_count": 5
        }
      ]
    },
    {
      "cell_type": "code",
      "metadata": {
        "id": "ITzZpRusPrhV"
      },
      "source": [
        "pixel_data = data['pixels']\n",
        "label_data = data['emotion']"
      ],
      "execution_count": null,
      "outputs": []
    },
    {
      "cell_type": "code",
      "metadata": {
        "colab": {
          "base_uri": "https://localhost:8080/"
        },
        "id": "zowQeqCkPrj1",
        "outputId": "51360e6b-7391-4828-a6f0-83f5b3fe77d6"
      },
      "source": [
        "len(label_data)"
      ],
      "execution_count": null,
      "outputs": [
        {
          "output_type": "execute_result",
          "data": {
            "text/plain": [
              "35887"
            ]
          },
          "metadata": {
            "tags": []
          },
          "execution_count": 7
        }
      ]
    },
    {
      "cell_type": "code",
      "metadata": {
        "id": "XiSTQubcPrmS"
      },
      "source": [
        "def preprocess_pixels(pixel_data):\n",
        "  images = []\n",
        "  for i in range(len(pixel_data)):\n",
        "    img = np.fromstring(pixel_data[i], dtype='int', sep=' ')\n",
        "    img = img.reshape(48,48,1)\n",
        "    images.append(img)\n",
        "\n",
        "  X = np.array(images)\n",
        "\n",
        " \n",
        "\n",
        "  return X"
      ],
      "execution_count": null,
      "outputs": []
    },
    {
      "cell_type": "code",
      "metadata": {
        "colab": {
          "base_uri": "https://localhost:8080/"
        },
        "id": "7Tjey_VQProW",
        "outputId": "464fa944-55fc-4534-82bc-f909ab097f6d"
      },
      "source": [
        "oversampler = RandomOverSampler(sampling_strategy='auto')\n",
        "\n",
        "X_over, Y_over = oversampler.fit_resample(pixel_data.values.reshape(-1,1), label_data)"
      ],
      "execution_count": null,
      "outputs": [
        {
          "output_type": "stream",
          "text": [
            "/usr/local/lib/python3.7/dist-packages/sklearn/utils/deprecation.py:87: FutureWarning: Function safe_indexing is deprecated; safe_indexing is deprecated in version 0.22 and will be removed in version 0.24.\n",
            "  warnings.warn(msg, category=FutureWarning)\n"
          ],
          "name": "stderr"
        }
      ]
    },
    {
      "cell_type": "code",
      "metadata": {
        "colab": {
          "base_uri": "https://localhost:8080/"
        },
        "id": "bRdAI4WNPrqy",
        "outputId": "f44ece06-834e-48c3-a097-f367781adbae"
      },
      "source": [
        "X_over_series = pd.Series(X_over.flatten())\n",
        "X_over_series"
      ],
      "execution_count": null,
      "outputs": [
        {
          "output_type": "execute_result",
          "data": {
            "text/plain": [
              "0        70 80 82 72 58 58 60 63 54 58 60 48 89 115 121...\n",
              "1        151 150 147 155 148 133 111 140 170 174 182 15...\n",
              "2        231 212 156 164 174 138 161 173 182 200 106 38...\n",
              "3        24 32 36 30 32 23 19 20 30 41 21 22 32 34 21 1...\n",
              "4        4 0 0 0 0 0 0 0 0 0 0 0 3 15 23 28 48 50 58 84...\n",
              "                               ...                        \n",
              "62918    63 60 58 56 55 56 56 54 55 55 54 54 52 51 51 5...\n",
              "62919    207 212 215 219 224 227 229 230 232 234 235 23...\n",
              "62920    213 214 217 219 222 226 228 229 227 231 185 15...\n",
              "62921    198 180 103 128 142 103 93 84 90 98 126 152 20...\n",
              "62922    217 217 218 213 166 122 130 146 177 191 195 20...\n",
              "Length: 62923, dtype: object"
            ]
          },
          "metadata": {
            "tags": []
          },
          "execution_count": 10
        }
      ]
    },
    {
      "cell_type": "code",
      "metadata": {
        "id": "RJwtE-usPrtk"
      },
      "source": [
        "X = preprocess_pixels(X_over_series)\n",
        "Y = Y_over"
      ],
      "execution_count": null,
      "outputs": []
    },
    {
      "cell_type": "code",
      "metadata": {
        "colab": {
          "base_uri": "https://localhost:8080/"
        },
        "id": "U2syDwCyPrv6",
        "outputId": "ecd67bf4-8bb2-421d-cb1a-70acf36efda2"
      },
      "source": [
        "Y = Y_over.reshape(Y.shape[0],1)\n",
        "Y.shape"
      ],
      "execution_count": null,
      "outputs": [
        {
          "output_type": "execute_result",
          "data": {
            "text/plain": [
              "(62923, 1)"
            ]
          },
          "metadata": {
            "tags": []
          },
          "execution_count": 12
        }
      ]
    },
    {
      "cell_type": "code",
      "metadata": {
        "id": "J4CkXpAUPryQ"
      },
      "source": [
        "X_train, X_test, Y_train, Y_test = train_test_split(X, Y, test_size = 0.1, random_state = 45)"
      ],
      "execution_count": null,
      "outputs": []
    },
    {
      "cell_type": "code",
      "metadata": {
        "id": "TAqJhAmhPr0t"
      },
      "source": [
        "def emotion_recognition(input_shape):\n",
        "\n",
        "  X_input = Input(input_shape)\n",
        "\n",
        "  X = Conv2D(32, kernel_size=(3,3), strides=(1,1), padding='valid')(X_input)\n",
        "  X = BatchNormalization(axis=3)(X)\n",
        "  X = Activation('relu')(X)\n",
        "\n",
        "\n",
        "  X = Conv2D(64, (3,3), strides=(1,1), padding = 'same')(X)\n",
        "  X = BatchNormalization(axis=3)(X)\n",
        "  X = Activation('relu')(X)\n",
        "\n",
        "  X = MaxPooling2D((2,2))(X)\n",
        "\n",
        "  X = Conv2D(64, (3,3), strides=(1,1), padding = 'valid')(X)\n",
        "  X = BatchNormalization(axis=3)(X)\n",
        "  X = Activation('relu')(X)\n",
        "\n",
        "  X = Conv2D(128, (3,3), strides=(1,1), padding = 'same')(X)\n",
        "  X = BatchNormalization(axis=3)(X)\n",
        "  X = Activation('relu')(X)\n",
        "\n",
        "\n",
        "  X = MaxPooling2D((2,2))(X)\n",
        "\n",
        "  X = Conv2D(128, (3,3), strides=(1,1), padding = 'valid')(X)\n",
        "  X = BatchNormalization(axis=3)(X)\n",
        "  X = Activation('relu')(X)\n",
        "\n",
        " \n",
        "\n",
        "  X = MaxPooling2D((2,2))(X)\n",
        "  X = Flatten()(X)\n",
        "  X = Dense(200, activation='relu')(X)\n",
        "  X = Dropout(0.6)(X)\n",
        "  X = Dense(7, activation = 'softmax')(X)\n",
        "\n",
        "  model = Model(inputs=X_input, outputs=X)\n",
        "\n",
        "  return model"
      ],
      "execution_count": null,
      "outputs": []
    },
    {
      "cell_type": "code",
      "metadata": {
        "id": "1NIznAg9Pr3R"
      },
      "source": [
        "model = emotion_recognition((48,48,1))"
      ],
      "execution_count": null,
      "outputs": []
    },
    {
      "cell_type": "code",
      "metadata": {
        "colab": {
          "base_uri": "https://localhost:8080/"
        },
        "id": "NAQqJHvVPr58",
        "outputId": "a12bc785-4bec-4d37-e40e-e62f5563c706"
      },
      "source": [
        "model.summary()"
      ],
      "execution_count": null,
      "outputs": [
        {
          "output_type": "stream",
          "text": [
            "Model: \"model\"\n",
            "_________________________________________________________________\n",
            "Layer (type)                 Output Shape              Param #   \n",
            "=================================================================\n",
            "input_1 (InputLayer)         [(None, 48, 48, 1)]       0         \n",
            "_________________________________________________________________\n",
            "conv2d (Conv2D)              (None, 46, 46, 32)        320       \n",
            "_________________________________________________________________\n",
            "batch_normalization (BatchNo (None, 46, 46, 32)        128       \n",
            "_________________________________________________________________\n",
            "activation (Activation)      (None, 46, 46, 32)        0         \n",
            "_________________________________________________________________\n",
            "conv2d_1 (Conv2D)            (None, 46, 46, 64)        18496     \n",
            "_________________________________________________________________\n",
            "batch_normalization_1 (Batch (None, 46, 46, 64)        256       \n",
            "_________________________________________________________________\n",
            "activation_1 (Activation)    (None, 46, 46, 64)        0         \n",
            "_________________________________________________________________\n",
            "max_pooling2d (MaxPooling2D) (None, 23, 23, 64)        0         \n",
            "_________________________________________________________________\n",
            "conv2d_2 (Conv2D)            (None, 21, 21, 64)        36928     \n",
            "_________________________________________________________________\n",
            "batch_normalization_2 (Batch (None, 21, 21, 64)        256       \n",
            "_________________________________________________________________\n",
            "activation_2 (Activation)    (None, 21, 21, 64)        0         \n",
            "_________________________________________________________________\n",
            "conv2d_3 (Conv2D)            (None, 21, 21, 128)       73856     \n",
            "_________________________________________________________________\n",
            "batch_normalization_3 (Batch (None, 21, 21, 128)       512       \n",
            "_________________________________________________________________\n",
            "activation_3 (Activation)    (None, 21, 21, 128)       0         \n",
            "_________________________________________________________________\n",
            "max_pooling2d_1 (MaxPooling2 (None, 10, 10, 128)       0         \n",
            "_________________________________________________________________\n",
            "conv2d_4 (Conv2D)            (None, 8, 8, 128)         147584    \n",
            "_________________________________________________________________\n",
            "batch_normalization_4 (Batch (None, 8, 8, 128)         512       \n",
            "_________________________________________________________________\n",
            "activation_4 (Activation)    (None, 8, 8, 128)         0         \n",
            "_________________________________________________________________\n",
            "max_pooling2d_2 (MaxPooling2 (None, 4, 4, 128)         0         \n",
            "_________________________________________________________________\n",
            "flatten (Flatten)            (None, 2048)              0         \n",
            "_________________________________________________________________\n",
            "dense (Dense)                (None, 200)               409800    \n",
            "_________________________________________________________________\n",
            "dropout (Dropout)            (None, 200)               0         \n",
            "_________________________________________________________________\n",
            "dense_1 (Dense)              (None, 7)                 1407      \n",
            "=================================================================\n",
            "Total params: 690,055\n",
            "Trainable params: 689,223\n",
            "Non-trainable params: 832\n",
            "_________________________________________________________________\n"
          ],
          "name": "stdout"
        }
      ]
    },
    {
      "cell_type": "code",
      "metadata": {
        "id": "rw2OLxc5Pr8e"
      },
      "source": [
        "adam = keras.optimizers.Adam(learning_rate=0.0001)\n",
        "model.compile(optimizer=adam, loss='categorical_crossentropy', metrics=['accuracy'])"
      ],
      "execution_count": null,
      "outputs": []
    },
    {
      "cell_type": "code",
      "metadata": {
        "id": "R_UZentMPr-6"
      },
      "source": [
        "y_train = to_categorical(Y_train, num_classes=7)"
      ],
      "execution_count": null,
      "outputs": []
    },
    {
      "cell_type": "code",
      "metadata": {
        "colab": {
          "base_uri": "https://localhost:8080/"
        },
        "id": "g1Sx4HEvQrSx",
        "outputId": "c500c37f-3b9d-4d94-cdf6-68ca682b2358"
      },
      "source": [
        "y_train.shape"
      ],
      "execution_count": null,
      "outputs": [
        {
          "output_type": "execute_result",
          "data": {
            "text/plain": [
              "(56630, 7)"
            ]
          },
          "metadata": {
            "tags": []
          },
          "execution_count": 19
        }
      ]
    },
    {
      "cell_type": "code",
      "metadata": {
        "id": "sIhEL-toQrVZ"
      },
      "source": [
        "y_test = to_categorical(Y_test, num_classes=7)"
      ],
      "execution_count": null,
      "outputs": []
    },
    {
      "cell_type": "code",
      "metadata": {
        "colab": {
          "base_uri": "https://localhost:8080/"
        },
        "id": "NgV9l67zQrYl",
        "outputId": "3d7c42d0-d3bd-4648-b260-0db646307afd"
      },
      "source": [
        "model.fit(X_train, y_train, epochs = 30, validation_data=(X_test, y_test))"
      ],
      "execution_count": null,
      "outputs": [
        {
          "output_type": "stream",
          "text": [
            "Epoch 1/30\n",
            "1770/1770 [==============================] - 68s 12ms/step - loss: 1.8996 - accuracy: 0.2614 - val_loss: 1.3987 - val_accuracy: 0.4842\n",
            "Epoch 2/30\n",
            "1770/1770 [==============================] - 21s 12ms/step - loss: 1.4275 - accuracy: 0.4531 - val_loss: 1.1685 - val_accuracy: 0.5632\n",
            "Epoch 3/30\n",
            "1770/1770 [==============================] - 21s 12ms/step - loss: 1.2250 - accuracy: 0.5339 - val_loss: 1.0970 - val_accuracy: 0.5787\n",
            "Epoch 4/30\n",
            "1770/1770 [==============================] - 21s 12ms/step - loss: 1.0913 - accuracy: 0.5787 - val_loss: 0.9927 - val_accuracy: 0.6205\n",
            "Epoch 5/30\n",
            "1770/1770 [==============================] - 21s 12ms/step - loss: 0.9971 - accuracy: 0.6177 - val_loss: 0.9203 - val_accuracy: 0.6534\n",
            "Epoch 6/30\n",
            "1770/1770 [==============================] - 21s 12ms/step - loss: 0.9224 - accuracy: 0.6481 - val_loss: 0.8819 - val_accuracy: 0.6638\n",
            "Epoch 7/30\n",
            "1770/1770 [==============================] - 21s 12ms/step - loss: 0.8505 - accuracy: 0.6783 - val_loss: 0.8657 - val_accuracy: 0.6814\n",
            "Epoch 8/30\n",
            "1770/1770 [==============================] - 21s 12ms/step - loss: 0.7761 - accuracy: 0.7122 - val_loss: 0.8398 - val_accuracy: 0.6871\n",
            "Epoch 9/30\n",
            "1770/1770 [==============================] - 22s 12ms/step - loss: 0.7130 - accuracy: 0.7355 - val_loss: 0.7460 - val_accuracy: 0.7303\n",
            "Epoch 10/30\n",
            "1770/1770 [==============================] - 21s 12ms/step - loss: 0.6496 - accuracy: 0.7627 - val_loss: 0.7712 - val_accuracy: 0.7197\n",
            "Epoch 11/30\n",
            "1770/1770 [==============================] - 21s 12ms/step - loss: 0.5707 - accuracy: 0.7947 - val_loss: 0.6952 - val_accuracy: 0.7561\n",
            "Epoch 12/30\n",
            "1770/1770 [==============================] - 21s 12ms/step - loss: 0.5177 - accuracy: 0.8129 - val_loss: 0.7312 - val_accuracy: 0.7531\n",
            "Epoch 13/30\n",
            "1770/1770 [==============================] - 21s 12ms/step - loss: 0.4666 - accuracy: 0.8331 - val_loss: 0.7128 - val_accuracy: 0.7685\n",
            "Epoch 14/30\n",
            "1770/1770 [==============================] - 21s 12ms/step - loss: 0.4185 - accuracy: 0.8496 - val_loss: 0.6726 - val_accuracy: 0.7844\n",
            "Epoch 15/30\n",
            "1770/1770 [==============================] - 21s 12ms/step - loss: 0.3695 - accuracy: 0.8702 - val_loss: 0.7144 - val_accuracy: 0.7823\n",
            "Epoch 16/30\n",
            "1770/1770 [==============================] - 21s 12ms/step - loss: 0.3327 - accuracy: 0.8850 - val_loss: 0.6464 - val_accuracy: 0.8018\n",
            "Epoch 17/30\n",
            "1770/1770 [==============================] - 22s 12ms/step - loss: 0.2952 - accuracy: 0.8986 - val_loss: 0.6554 - val_accuracy: 0.8047\n",
            "Epoch 18/30\n",
            "1770/1770 [==============================] - 22s 12ms/step - loss: 0.2666 - accuracy: 0.9073 - val_loss: 0.7176 - val_accuracy: 0.7968\n",
            "Epoch 19/30\n",
            "1770/1770 [==============================] - 21s 12ms/step - loss: 0.2451 - accuracy: 0.9157 - val_loss: 0.7579 - val_accuracy: 0.7991\n",
            "Epoch 20/30\n",
            "1770/1770 [==============================] - 22s 12ms/step - loss: 0.2226 - accuracy: 0.9226 - val_loss: 0.6771 - val_accuracy: 0.8171\n",
            "Epoch 21/30\n",
            "1770/1770 [==============================] - 22s 12ms/step - loss: 0.2113 - accuracy: 0.9286 - val_loss: 0.7664 - val_accuracy: 0.8176\n",
            "Epoch 22/30\n",
            "1770/1770 [==============================] - 21s 12ms/step - loss: 0.1931 - accuracy: 0.9336 - val_loss: 0.8054 - val_accuracy: 0.8010\n",
            "Epoch 23/30\n",
            "1770/1770 [==============================] - 21s 12ms/step - loss: 0.1792 - accuracy: 0.9391 - val_loss: 0.7688 - val_accuracy: 0.8219\n",
            "Epoch 24/30\n",
            "1770/1770 [==============================] - 22s 12ms/step - loss: 0.1657 - accuracy: 0.9432 - val_loss: 0.8866 - val_accuracy: 0.7996\n",
            "Epoch 25/30\n",
            "1770/1770 [==============================] - 22s 12ms/step - loss: 0.1516 - accuracy: 0.9489 - val_loss: 0.8343 - val_accuracy: 0.8150\n",
            "Epoch 26/30\n",
            "1770/1770 [==============================] - 21s 12ms/step - loss: 0.1479 - accuracy: 0.9499 - val_loss: 0.8645 - val_accuracy: 0.8184\n",
            "Epoch 27/30\n",
            "1770/1770 [==============================] - 21s 12ms/step - loss: 0.1350 - accuracy: 0.9549 - val_loss: 0.8464 - val_accuracy: 0.8271\n",
            "Epoch 28/30\n",
            "1770/1770 [==============================] - 21s 12ms/step - loss: 0.1345 - accuracy: 0.9552 - val_loss: 0.8878 - val_accuracy: 0.8211\n",
            "Epoch 29/30\n",
            "1770/1770 [==============================] - 22s 12ms/step - loss: 0.1240 - accuracy: 0.9594 - val_loss: 0.8879 - val_accuracy: 0.8169\n",
            "Epoch 30/30\n",
            "1770/1770 [==============================] - 22s 12ms/step - loss: 0.1150 - accuracy: 0.9614 - val_loss: 0.8994 - val_accuracy: 0.8311\n"
          ],
          "name": "stdout"
        },
        {
          "output_type": "execute_result",
          "data": {
            "text/plain": [
              "<keras.callbacks.History at 0x7fac5eaaf290>"
            ]
          },
          "metadata": {
            "tags": []
          },
          "execution_count": 21
        }
      ]
    },
    {
      "cell_type": "code",
      "metadata": {
        "id": "JrqwywsrQrbH"
      },
      "source": [
        "model.save_weights('/content/drive/My Drive/emotion_weights_3.hdf5')"
      ],
      "execution_count": null,
      "outputs": []
    },
    {
      "cell_type": "code",
      "metadata": {
        "colab": {
          "base_uri": "https://localhost:8080/"
        },
        "id": "WEAbAj8zRZEF",
        "outputId": "83d2124f-fdcd-4179-d40b-99cd109a98c5"
      },
      "source": [
        "model.evaluate(X_test, y_test)"
      ],
      "execution_count": null,
      "outputs": [
        {
          "output_type": "stream",
          "text": [
            "197/197 [==============================] - 1s 5ms/step - loss: 0.8994 - accuracy: 0.8311\n"
          ],
          "name": "stdout"
        },
        {
          "output_type": "execute_result",
          "data": {
            "text/plain": [
              "[0.8993593454360962, 0.8310821652412415]"
            ]
          },
          "metadata": {
            "tags": []
          },
          "execution_count": 25
        }
      ]
    },
    {
      "cell_type": "code",
      "metadata": {
        "id": "57bTiqDsRZHD"
      },
      "source": [
        "preds = model.predict(X_train)"
      ],
      "execution_count": null,
      "outputs": []
    },
    {
      "cell_type": "code",
      "metadata": {
        "id": "fHwv20OqRZKW"
      },
      "source": [
        "def get_class(preds):\n",
        "  pred_class = np.zeros((preds.shape[0],1))\n",
        "\n",
        "  for i in range(len(preds)):\n",
        "   pred_class[i] = np.argmax(preds[i])\n",
        "\n",
        "  return pred_class"
      ],
      "execution_count": null,
      "outputs": []
    },
    {
      "cell_type": "code",
      "metadata": {
        "id": "5mdIeMmnRZNY"
      },
      "source": [
        "pred_class_train = get_class(preds)"
      ],
      "execution_count": null,
      "outputs": []
    },
    {
      "cell_type": "code",
      "metadata": {
        "id": "Gv6q1ttFQrdO"
      },
      "source": [
        "train_report = classification_report(Y_train, pred_class_train)"
      ],
      "execution_count": null,
      "outputs": []
    },
    {
      "cell_type": "code",
      "metadata": {
        "colab": {
          "base_uri": "https://localhost:8080/"
        },
        "id": "DvxcIO3tPsA2",
        "outputId": "2ca005f2-f351-4e45-d706-b836ca572189"
      },
      "source": [
        "print(train_report)"
      ],
      "execution_count": null,
      "outputs": [
        {
          "output_type": "stream",
          "text": [
            "              precision    recall  f1-score   support\n",
            "\n",
            "           0       0.97      0.99      0.98      8054\n",
            "           1       1.00      1.00      1.00      8094\n",
            "           2       0.99      0.95      0.97      8109\n",
            "           3       0.99      0.99      0.99      8083\n",
            "           4       0.97      0.99      0.98      8101\n",
            "           5       1.00      0.99      0.99      8120\n",
            "           6       0.98      0.99      0.99      8069\n",
            "\n",
            "    accuracy                           0.99     56630\n",
            "   macro avg       0.99      0.99      0.99     56630\n",
            "weighted avg       0.99      0.99      0.99     56630\n",
            "\n"
          ],
          "name": "stdout"
        }
      ]
    },
    {
      "cell_type": "code",
      "metadata": {
        "id": "QVsrjIIkXwZv"
      },
      "source": [
        "test_preds = model.predict(X_test)"
      ],
      "execution_count": null,
      "outputs": []
    },
    {
      "cell_type": "code",
      "metadata": {
        "colab": {
          "base_uri": "https://localhost:8080/"
        },
        "id": "RAg_R30WXwc6",
        "outputId": "7da61fad-5402-4338-9684-3c41a87b7c5c"
      },
      "source": [
        "len(test_preds)"
      ],
      "execution_count": null,
      "outputs": [
        {
          "output_type": "execute_result",
          "data": {
            "text/plain": [
              "6293"
            ]
          },
          "metadata": {
            "tags": []
          },
          "execution_count": 32
        }
      ]
    },
    {
      "cell_type": "code",
      "metadata": {
        "id": "JTM79aW7XwgK"
      },
      "source": [
        "pred_test_class = get_class(test_preds)"
      ],
      "execution_count": null,
      "outputs": []
    },
    {
      "cell_type": "code",
      "metadata": {
        "id": "TAhETQI5XwjR"
      },
      "source": [
        "report_test = classification_report(Y_test, pred_test_class)"
      ],
      "execution_count": null,
      "outputs": []
    },
    {
      "cell_type": "code",
      "metadata": {
        "colab": {
          "base_uri": "https://localhost:8080/"
        },
        "id": "M1mXR23aXwl4",
        "outputId": "3a61f21b-eacb-41f7-a498-96966af898b1"
      },
      "source": [
        "print(report_test)"
      ],
      "execution_count": null,
      "outputs": [
        {
          "output_type": "stream",
          "text": [
            "              precision    recall  f1-score   support\n",
            "\n",
            "           0       0.77      0.86      0.81       935\n",
            "           1       0.99      0.99      0.99       895\n",
            "           2       0.86      0.75      0.80       880\n",
            "           3       0.83      0.77      0.80       906\n",
            "           4       0.69      0.74      0.71       888\n",
            "           5       0.94      0.94      0.94       869\n",
            "           6       0.76      0.76      0.76       920\n",
            "\n",
            "    accuracy                           0.83      6293\n",
            "   macro avg       0.84      0.83      0.83      6293\n",
            "weighted avg       0.83      0.83      0.83      6293\n",
            "\n"
          ],
          "name": "stdout"
        }
      ]
    },
    {
      "cell_type": "code",
      "metadata": {
        "colab": {
          "base_uri": "https://localhost:8080/"
        },
        "id": "NHE-uU7OPsDa",
        "outputId": "f6919f6b-f4a8-46ea-a007-40e2ccad45f2"
      },
      "source": [
        "label_dict = {0 : 'Angry', 1 : 'Disgust', 2 : 'Fear', 3 : 'Surprise', 4 : 'Sad', 5 : 'Happiness', 6 : 'Neutral'}\n",
        "label_dict"
      ],
      "execution_count": null,
      "outputs": [
        {
          "output_type": "execute_result",
          "data": {
            "text/plain": [
              "{0: 'Angry',\n",
              " 1: 'Disgust',\n",
              " 2: 'Fear',\n",
              " 3: 'Surprise',\n",
              " 4: 'Sad',\n",
              " 5: 'Happiness',\n",
              " 6: 'Neutral'}"
            ]
          },
          "metadata": {
            "tags": []
          },
          "execution_count": 62
        }
      ]
    },
    {
      "cell_type": "code",
      "metadata": {
        "colab": {
          "base_uri": "https://localhost:8080/"
        },
        "id": "9ViHIOhCPsFi",
        "outputId": "e1105f0f-e48f-4246-efdb-959b19a200c9"
      },
      "source": [
        "img_path = '/content/as.jpeg'\n",
        "img = image.load_img(img_path, grayscale=True, target_size=(48,48))"
      ],
      "execution_count": null,
      "outputs": [
        {
          "output_type": "stream",
          "text": [
            "/usr/local/lib/python3.7/dist-packages/keras_preprocessing/image/utils.py:107: UserWarning: grayscale is deprecated. Please use color_mode = \"grayscale\"\n",
            "  warnings.warn('grayscale is deprecated. Please use '\n"
          ],
          "name": "stderr"
        }
      ]
    },
    {
      "cell_type": "code",
      "metadata": {
        "colab": {
          "base_uri": "https://localhost:8080/"
        },
        "id": "VQ2o0bWSPsHt",
        "outputId": "5bc78dc5-6977-4b63-b9f8-e463f823135d"
      },
      "source": [
        "x = image.img_to_array(img)\n",
        "x = np.expand_dims(x, axis=0)\n",
        "x.shape"
      ],
      "execution_count": null,
      "outputs": [
        {
          "output_type": "execute_result",
          "data": {
            "text/plain": [
              "(1, 48, 48, 1)"
            ]
          },
          "metadata": {
            "tags": []
          },
          "execution_count": 48
        }
      ]
    },
    {
      "cell_type": "code",
      "metadata": {
        "colab": {
          "base_uri": "https://localhost:8080/",
          "height": 274
        },
        "id": "6BjIf0_tYD6p",
        "outputId": "8f9187a5-2510-4dee-d0f2-c1f6ca5944e0"
      },
      "source": [
        "prediction = np.argmax(model.predict(x))\n",
        "print('The predicted emotion is : ' + label_dict[prediction])\n",
        "my_image = image.load_img(img_path)\n",
        "plt.imshow(my_image)"
      ],
      "execution_count": null,
      "outputs": [
        {
          "output_type": "stream",
          "text": [
            "The predicted emotion is : Happiness\n"
          ],
          "name": "stdout"
        },
        {
          "output_type": "execute_result",
          "data": {
            "text/plain": [
              "<matplotlib.image.AxesImage at 0x7fac012fd990>"
            ]
          },
          "metadata": {
            "tags": []
          },
          "execution_count": 64
        },
        {
          "output_type": "display_data",
          "data": {
            "image/png": "[encoded data removed]",
            "text/plain": [
              "<Figure size 432x288 with 1 Axes>"
            ]
          },
          "metadata": {
            "tags": [],
            "needs_background": "light"
          }
        }
      ]
    },
    {
      "cell_type": "code",
      "metadata": {
        "id": "bgWfojyrZHZm"
      },
      "source": [
        ""
      ],
      "execution_count": null,
      "outputs": []
    },
    {
      "cell_type": "code",
      "metadata": {
        "id": "frIb2m4vYEGo"
      },
      "source": [
        ""
      ],
      "execution_count": null,
      "outputs": []
    }
  ]
}
